{
 "cells": [
  {
   "cell_type": "code",
   "execution_count": null,
   "metadata": {},
   "outputs": [],
   "source": [
    "from __future__ import annotations\n",
    "import os\n",
    "os.environ['PYTORCH_ENABLE_MPS_FALLBACK'] = '1'\n",
    "\n",
    "import matplotlib.pyplot as plt\n",
    "\n",
    "#from coin_ai.alignment.data import recursive_parse_homography_csv"
   ]
  },
  {
   "cell_type": "code",
   "execution_count": null,
   "metadata": {},
   "outputs": [],
   "source": [
    "from coin_ai.alignment.data import HPairDataset, HPathPair, HomographyBatch, AugmentationBuilder"
   ]
  },
  {
   "cell_type": "code",
   "execution_count": null,
   "metadata": {},
   "outputs": [],
   "source": [
    "# from functools import partial\n",
    "# from typing import NamedTuple\n",
    "# #from coin_ai.alignment.data import HPair\n",
    "# from einops import rearrange, repeat\n",
    "# import torch\n",
    "# import kornia.geometry as KG\n",
    "# from torch import Tensor\n",
    "\n",
    "# class HomographyBatch(NamedTuple):\n",
    "#     images: Tensor # [2, B, C, H, W]\n",
    "#     H_12: Tensor # [B, 3, 3]\n",
    "\n",
    "#     def __repr__(self) -> str:\n",
    "#         return f'HomographyBatch(images={tuple(self.images.shape)}, H_12={tuple(self.H_12.shape)})'\n",
    "\n",
    "#     @staticmethod\n",
    "#     def from_path_pairs(pairs: list[HPathPair]) -> HomographyBatch:\n",
    "#         images = [torch.stack([p.get_image1(), p.get_image2()], dim=0) for p in pairs]\n",
    "#         H_12s = [pair.H_12 for pair in pairs]\n",
    "\n",
    "#         images = torch.stack(images, dim=1)\n",
    "#         images = rearrange(images, 't b h w c -> t b c h w')\n",
    "#         H_12s = torch.stack(H_12s)\n",
    "\n",
    "#         return HomographyBatch(images=images, H_12=H_12s)\n",
    "    \n",
    "#     def apply_h(self, H_12: Tensor) -> HomographyBatch:\n",
    "#         H_12 = H_12.to(self.images.device)\n",
    "#         images = KG.homography_warp(self.images, H_12)\n",
    "#         return HomographyBatch(images=images, H_12=self.H_12)\n",
    "    \n",
    "#     def slice(self, start: int | None, end: int | None) -> HomographyBatch:\n",
    "#         images = self.images[:, start:end]\n",
    "#         H_12 = self.H_12[start:end]\n",
    "\n",
    "#         return HomographyBatch(images=images, H_12=H_12)\n",
    "    \n",
    "#     @property\n",
    "#     def B(self) -> int:\n",
    "#         return self.H_12.shape[0]\n",
    "\n",
    "#     @property\n",
    "#     def corners(self) -> Tensor:\n",
    "#         h, w = self.images.shape[-2:]\n",
    "\n",
    "#         return torch.tensor([\n",
    "#             [0, 0],\n",
    "#             [w, 0],\n",
    "#             [w, h],\n",
    "#             [0, h]\n",
    "#         ], dtype=torch.float32)\n",
    "    \n",
    "#     def get_alignment_transform(self) -> Tensor:\n",
    "#         return torch.stack([\n",
    "#             self.H_12,\n",
    "#             repeat(torch.eye(3), 'i j -> b i j', b=self.B),\n",
    "#         ])\n",
    "    \n",
    "#     def build_augmentation(self) -> AugmentationBuilder:\n",
    "#         return AugmentationBuilder(\n",
    "#             batch=self,\n",
    "#             transform=repeat(torch.eye(3), 'i j -> c b i j', c=2, b=self.B),\n",
    "#             target_size=self.images.shape[-2:]\n",
    "#         )\n",
    "    \n",
    "# class AugmentationBuilder(NamedTuple):\n",
    "#     batch: HomographyBatch\n",
    "#     transform: Tensor # [2, B, 3, 3]\n",
    "#     target_size: tuple[int, int]\n",
    "\n",
    "#     def resize(self, target_size: tuple[int, int]) -> AugmentationBuilder:\n",
    "#         h, w = target_size\n",
    "#         resize_transform = KG.get_perspective_transform(\n",
    "#             self.batch.corners.unsqueeze(0),\n",
    "#             torch.tensor([\n",
    "#                 [0, 0],\n",
    "#                 [w, 0],\n",
    "#                 [w, h],\n",
    "#                 [0, h]\n",
    "#             ], dtype=torch.float32).unsqueeze(0),\n",
    "#         )\n",
    "#         resize_transform = repeat(resize_transform, 'B i j -> C B i j', C=2)\n",
    "\n",
    "#         return AugmentationBuilder(\n",
    "#             batch=self.batch,\n",
    "#             transform=resize_transform @ self.transform,\n",
    "#             target_size=target_size\n",
    "#         )\n",
    "    \n",
    "#     def get_random_homography_transform(self, scale: float = 0.125) -> Tensor:\n",
    "#         corners = repeat(self.batch.corners, 'i j -> b i j', b=self.batch.B)\n",
    "\n",
    "#         scale_px = torch.tensor([self.target_size]).reshape(1, 1, 2) * scale\n",
    "#         corners_1 = corners + torch.randn_like(corners) * scale_px\n",
    "#         corners_2 = corners + torch.randn_like(corners) * scale_px\n",
    "#         transform_1 = KG.get_perspective_transform(corners_1, corners_2)\n",
    "#         transform_2 = KG.get_perspective_transform(corners_2, corners_1)\n",
    "\n",
    "#         return torch.stack([transform_2, transform_1], dim=0)\n",
    "    \n",
    "#     def apply(self, transform: Tensor) -> AugmentationBuilder:\n",
    "#         assert transform.shape == self.transform.shape\n",
    "#         t_1, t_2 = transform\n",
    "#         new_H_12 = t_2 @ self.batch.H_12 @ torch.inverse(t_1)\n",
    "#         return AugmentationBuilder(\n",
    "#             batch=self.batch._replace(H_12=new_H_12),\n",
    "#             transform=transform @ self.transform,\n",
    "#             target_size=self.target_size\n",
    "#         )\n",
    "    \n",
    "#     def build(self) -> HomographyBatch:\n",
    "#         warp_fn = partial(KG.warp_perspective, dsize=self.target_size, padding_mode=\"border\")\n",
    "#         return HomographyBatch(\n",
    "#             images=torch.vmap(warp_fn, in_dims=(0, 0))(self.batch.images, self.transform),\n",
    "#             H_12=self.batch.H_12\n",
    "#         )"
   ]
  },
  {
   "cell_type": "code",
   "execution_count": null,
   "metadata": {},
   "outputs": [],
   "source": [
    "import numpy as np\n",
    "\n",
    "def draw_corners(homography_batch: HomographyBatch):\n",
    "    assert homography_batch.B == 1\n",
    "\n",
    "    fig, (a1, a2) = plt.subplots(1, 2)\n",
    "    im1, im2 = homography_batch.images.squeeze(1).permute(0, 2, 3, 1).cpu().numpy()\n",
    "    a1.imshow(im1)\n",
    "    a2.imshow(im2)\n",
    "\n",
    "    corners_base = homography_batch.corners.squeeze(0).cpu().numpy()\n",
    "    corners_base = corners_base / 2 + 128\n",
    "    corners_base = np.concatenate([corners_base, np.ones((4, 1))], axis=1)\n",
    "    corners_warp = corners_base @ homography_batch.H_12.squeeze(0).cpu().numpy().T\n",
    "\n",
    "    corners_warp /= corners_warp[:, 2:]\n",
    "    a2.plot(corners_warp[:, 0], corners_warp[:, 1], 'ro')\n",
    "    a1.plot(corners_base[:, 0], corners_base[:, 1], 'ro')\n",
    "\n",
    "    return fig"
   ]
  },
  {
   "cell_type": "code",
   "execution_count": null,
   "metadata": {},
   "outputs": [],
   "source": [
    "base_path_pairs = HPairDataset.parse_homography_csv('/Users/jatentaki/Data/archeo/coins/krzywousty-homographies/Krzywousty/Typ 2/Awers - stempel a.III.01/homographies.csv')\n",
    "inferred_path_pairs = HPairDataset.infer_homographies(base_path_pairs)"
   ]
  },
  {
   "cell_type": "code",
   "execution_count": null,
   "metadata": {},
   "outputs": [],
   "source": [
    "len(base_path_pairs), len(inferred_path_pairs)"
   ]
  },
  {
   "cell_type": "code",
   "execution_count": null,
   "metadata": {},
   "outputs": [],
   "source": [
    "batch = HomographyBatch.from_path_pairs(inferred_path_pairs)"
   ]
  },
  {
   "cell_type": "code",
   "execution_count": null,
   "metadata": {},
   "outputs": [],
   "source": [
    "#resized = batch.build_augmentation().resize((256, 256)).build()\n",
    "builder = batch.build_augmentation()\n",
    "with_aug = builder.apply(batch.get_alignment_transform()).apply(builder.get_random_homography_transform(scale=0.05)).build()"
   ]
  },
  {
   "cell_type": "code",
   "execution_count": null,
   "metadata": {},
   "outputs": [],
   "source": [
    "for i in range(with_aug.B):\n",
    "    fig = draw_corners(with_aug.slice(i, i + 1))\n",
    "    fig.suptitle(f\"{i}\")\n",
    "\n",
    "plt.show()"
   ]
  },
  {
   "cell_type": "code",
   "execution_count": null,
   "metadata": {},
   "outputs": [],
   "source": [
    "len(base_path_pairs)"
   ]
  },
  {
   "cell_type": "code",
   "execution_count": null,
   "metadata": {},
   "outputs": [],
   "source": []
  }
 ],
 "metadata": {
  "kernelspec": {
   "display_name": "base",
   "language": "python",
   "name": "python3"
  },
  "language_info": {
   "codemirror_mode": {
    "name": "ipython",
    "version": 3
   },
   "file_extension": ".py",
   "mimetype": "text/x-python",
   "name": "python",
   "nbconvert_exporter": "python",
   "pygments_lexer": "ipython3",
   "version": "3.10.13"
  }
 },
 "nbformat": 4,
 "nbformat_minor": 2
}
