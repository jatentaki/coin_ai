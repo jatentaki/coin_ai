{
 "cells": [
  {
   "cell_type": "code",
   "execution_count": null,
   "metadata": {},
   "outputs": [],
   "source": [
    "from __future__ import annotations\n",
    "\n",
    "import os\n",
    "os.environ['PYTORCH_ENABLE_MPS_FALLBACK'] = '1'\n",
    "import glob\n",
    "from typing import Callable\n",
    "\n",
    "import torch\n",
    "import kornia.geometry as KG\n",
    "import matplotlib.pyplot as plt\n",
    "import numpy as np\n",
    "from torch import nn, Tensor\n",
    "from torch.utils.data import ConcatDataset, DataLoader\n",
    "\n",
    "from coin_ai.alignment.data import HPairDataset, HomographyBatch\n",
    "from coin_ai.alignment.hformer import HFormer, HCorrespondences"
   ]
  },
  {
   "cell_type": "code",
   "execution_count": null,
   "metadata": {},
   "outputs": [],
   "source": [
    "def assemble_datasets(\n",
    "    path: str,\n",
    "    augmentation: Callable[[HomographyBatch, ], HomographyBatch],\n",
    "    infer: bool = True,\n",
    "    skip_identity: bool = False,\n",
    ") -> ConcatDataset:\n",
    "    paths = glob.glob(f\"{path}/**/homographies.csv\", recursive=True)\n",
    "\n",
    "    datasets = [\n",
    "        HPairDataset(\n",
    "            path,\n",
    "            augmentation=augmentation,\n",
    "            skip_identity=skip_identity,\n",
    "            infer=infer,\n",
    "        )\n",
    "        for path in paths\n",
    "    ]\n",
    "    return ConcatDataset(datasets)"
   ]
  },
  {
   "cell_type": "code",
   "execution_count": null,
   "metadata": {},
   "outputs": [],
   "source": [
    "import kornia.color as KC\n",
    "\n",
    "def train_augmentation(batch: HomographyBatch) -> HomographyBatch:\n",
    "    builder = batch.build_augmentation()\n",
    "    alignment = batch.get_alignment_transform()\n",
    "    augmentation = builder.random_h_4_point(scale=0.05)\n",
    "    out_batch = builder.apply(alignment).apply(augmentation).build()\n",
    "    return out_batch._replace(images=KC.rgb_to_grayscale(out_batch.images).repeat(1, 1, 3, 1, 1))"
   ]
  },
  {
   "cell_type": "code",
   "execution_count": null,
   "metadata": {},
   "outputs": [],
   "source": [
    "def homography_loss(homography_batch: HomographyBatch, model: Callable[[Tensor, ], HCorrespondences]) -> Tensor:\n",
    "    predictions = model(homography_batch.images)\n",
    "    corners_b_gt = KG.linalg.transform_points(homography_batch.H_12, predictions.corners_a)\n",
    "\n",
    "    pred_corners_b = predictions.corners_b / homography_batch.images.shape[-1]\n",
    "    corners_b_gt = corners_b_gt / homography_batch.images.shape[-1]\n",
    "\n",
    "    return nn.functional.mse_loss(pred_corners_b, corners_b_gt)"
   ]
  },
  {
   "cell_type": "code",
   "execution_count": null,
   "metadata": {},
   "outputs": [],
   "source": [
    "path = '/Users/jatentaki/Data/archeo/coins/krzywousty-homographies'\n",
    "\n",
    "device = torch.device('mps')\n",
    "hformer = HFormer(d_target=128).to(device)\n",
    "optim = torch.optim.AdamW(hformer.parameters(), lr=1e-4, weight_decay=1e-3)\n",
    "\n",
    "dataset = assemble_datasets(path, augmentation=train_augmentation, skip_identity=True)\n",
    "train_dataloader = DataLoader(dataset, batch_size=8, shuffle=True, collate_fn=HPairDataset.collate_fn)\n",
    "\n",
    "n = sum(p.numel() for p in hformer.parameters() if p.requires_grad)\n",
    "print(f\"{n:,} parameters\")"
   ]
  },
  {
   "cell_type": "code",
   "execution_count": null,
   "metadata": {},
   "outputs": [],
   "source": [
    "from tqdm.auto import tqdm\n",
    "\n",
    "losses = []\n",
    "for _ in range(5):\n",
    "    epoch_losses = []\n",
    "    for batch in tqdm(train_dataloader):\n",
    "        optim.zero_grad()\n",
    "        batch = batch.to(device)\n",
    "        loss = homography_loss(batch, hformer)\n",
    "        loss.backward()\n",
    "        optim.step()\n",
    "        epoch_losses.append(loss.item())\n",
    "    losses.append(np.mean(epoch_losses))\n",
    "    print(losses[-1])\n",
    "plt.plot(losses)"
   ]
  },
  {
   "cell_type": "code",
   "execution_count": null,
   "metadata": {},
   "outputs": [],
   "source": [
    "test_batch = next(iter(train_dataloader))\n",
    "\n",
    "with torch.no_grad():\n",
    "    prediction_test = hformer(test_batch.images.to(device))"
   ]
  },
  {
   "cell_type": "code",
   "execution_count": null,
   "metadata": {},
   "outputs": [],
   "source": [
    "def plot(batch: HomographyBatch, prediction):\n",
    "    corners_a = prediction.corners_a.cpu()\n",
    "    corners_b = prediction.corners_b.cpu()\n",
    "    corners_b_gt = KG.linalg.transform_points(batch.H_12.to('cpu'), corners_a)\n",
    "\n",
    "    rep = [0, 1, 2, 3, 0]\n",
    "    for s in range(batch.B):\n",
    "        fig, (a1, a2) = plt.subplots(1, 2)\n",
    "        a1.imshow(batch.images[0, s].permute(1, 2, 0).cpu().numpy())\n",
    "        a2.imshow(batch.images[1, s].permute(1, 2, 0).cpu().numpy())\n",
    "        a1.plot(corners_a[s, :, 0][rep], corners_a[s, :, 1][rep], 'r--')\n",
    "        a2.plot(corners_b[s, :, 0][rep], corners_b[s, :, 1][rep], 'r--')\n",
    "        a2.plot(corners_b_gt[s, :, 0][rep], corners_b_gt[s, :, 1][rep], 'g--')\n",
    "    \n",
    "plot(test_batch, prediction_test)"
   ]
  },
  {
   "cell_type": "code",
   "execution_count": null,
   "metadata": {},
   "outputs": [],
   "source": []
  }
 ],
 "metadata": {
  "kernelspec": {
   "display_name": "base",
   "language": "python",
   "name": "python3"
  },
  "language_info": {
   "codemirror_mode": {
    "name": "ipython",
    "version": 3
   },
   "file_extension": ".py",
   "mimetype": "text/x-python",
   "name": "python",
   "nbconvert_exporter": "python",
   "pygments_lexer": "ipython3",
   "version": "3.10.13"
  }
 },
 "nbformat": 4,
 "nbformat_minor": 2
}
