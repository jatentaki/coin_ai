{
 "cells": [
  {
   "cell_type": "code",
   "execution_count": null,
   "metadata": {},
   "outputs": [],
   "source": [
    "from __future__ import annotations\n",
    "\n",
    "import os\n",
    "\n",
    "os.environ[\"PYTORCH_ENABLE_MPS_FALLBACK\"] = \"1\"\n",
    "\n",
    "import torch\n",
    "import lightning as pl\n",
    "import kornia.geometry as KG\n",
    "import matplotlib.pyplot as plt\n",
    "from torch import Tensor\n",
    "\n",
    "from coin_ai.alignment.data import HomographyBatch, CoinDataModule, AugmentationBuilder\n",
    "from coin_ai.alignment.hformer import HFormer, HCorrespondences"
   ]
  },
  {
   "cell_type": "code",
   "execution_count": null,
   "metadata": {},
   "outputs": [],
   "source": [
    "def plot_predictions(\n",
    "    batch: HomographyBatch, correspondences: HCorrespondences\n",
    ") -> list[plt.Figure]:\n",
    "    corners_a = correspondences.corners_a.cpu()\n",
    "    corners_b = correspondences.corners_b.cpu()\n",
    "    corners_b_gt = KG.linalg.transform_points(batch.H_12.to(\"cpu\"), corners_a)\n",
    "\n",
    "    rep = [0, 1, 2, 3, 0]\n",
    "    figures = []\n",
    "    for s in range(batch.B):\n",
    "        fig, (a1, a2) = plt.subplots(1, 2)\n",
    "        a1.imshow(batch.images[s, 0].permute(1, 2, 0).cpu().numpy())\n",
    "        a2.imshow(batch.images[s, 1].permute(1, 2, 0).cpu().numpy())\n",
    "        a1.plot(corners_a[s, :, 0][rep], corners_a[s, :, 1][rep], \"r--\")\n",
    "        a2.plot(corners_b[s, :, 0][rep], corners_b[s, :, 1][rep], \"r--\")\n",
    "        a2.plot(corners_b_gt[s, :, 0][rep], corners_b_gt[s, :, 1][rep], \"g--\")\n",
    "        a1.grid(True)\n",
    "        a2.grid(True)\n",
    "\n",
    "        figures.append(fig)\n",
    "\n",
    "    return figures"
   ]
  },
  {
   "cell_type": "code",
   "execution_count": null,
   "metadata": {},
   "outputs": [],
   "source": [
    "class CoinLearner(pl.LightningModule):\n",
    "    def __init__(self, model: HFormer, lr: float = 1e-4):\n",
    "        super().__init__()\n",
    "        self.model = model\n",
    "        self.lr = lr\n",
    "\n",
    "    def forward(self, batch: HomographyBatch) -> Tensor:\n",
    "        return self.model(batch.images)\n",
    "\n",
    "    def build_batch(self, batch: AugmentationBuilder) -> HomographyBatch:\n",
    "        return batch.to(\"cpu\").build().to(self.device)\n",
    "\n",
    "    def training_step(self, raw_batch: AugmentationBuilder, batch_idx: int) -> Tensor:\n",
    "        batch = self.build_batch(raw_batch)\n",
    "        loss = self.model.loss(batch)\n",
    "        self.log(\"train_loss\", loss, batch_size=batch.B)\n",
    "        return loss\n",
    "\n",
    "    def validation_step(self, raw_batch: AugmentationBuilder, batch_idx: int) -> Tensor:\n",
    "        batch = self.build_batch(raw_batch)\n",
    "        loss = self.model.loss(batch)\n",
    "        self.log(\"val_loss\", loss, batch_size=batch.B)\n",
    "\n",
    "        correspondences = self(batch)\n",
    "        figures = plot_predictions(batch, correspondences)\n",
    "\n",
    "        for i, fig in enumerate(figures):\n",
    "            self.logger.experiment.add_figure(\n",
    "                f\"val_{batch_idx}_{i}\", fig, self.current_epoch\n",
    "            )\n",
    "\n",
    "        return loss\n",
    "\n",
    "    def configure_optimizers(self):\n",
    "        return torch.optim.Adam(self.model.parameters(), lr=self.lr)"
   ]
  },
  {
   "cell_type": "code",
   "execution_count": null,
   "metadata": {},
   "outputs": [],
   "source": [
    "path = \"/Users/jatentaki/Data/archeo/coins/krzywousty-homographies\"\n",
    "\n",
    "hformer = HFormer(d_target=128)\n",
    "learner = CoinLearner(hformer)\n",
    "\n",
    "data_module = CoinDataModule(\n",
    "    train_root=f\"{path}/split/train/Awers - stempel a.07\",\n",
    "    val_root=f\"{path}/split/train/Awers - stempel a.07\",\n",
    "    train_replicate=64,\n",
    "    batch_size=8,\n",
    "    num_workers=0,\n",
    ")"
   ]
  },
  {
   "cell_type": "code",
   "execution_count": null,
   "metadata": {},
   "outputs": [],
   "source": [
    "from lightning.pytorch.loggers import TensorBoardLogger\n",
    "\n",
    "logger = TensorBoardLogger(\"tb_logs\", name=\"my_model\")\n",
    "\n",
    "\n",
    "trainer = pl.Trainer(\n",
    "    max_epochs=10,\n",
    "    accelerator=\"mps\",\n",
    "    logger=logger,\n",
    ")\n",
    "\n",
    "\n",
    "trainer.fit(learner, data_module)"
   ]
  },
  {
   "cell_type": "code",
   "execution_count": null,
   "metadata": {},
   "outputs": [],
   "source": []
  },
  {
   "cell_type": "code",
   "execution_count": null,
   "metadata": {},
   "outputs": [],
   "source": []
  }
 ],
 "metadata": {
  "kernelspec": {
   "display_name": "coins",
   "language": "python",
   "name": "python3"
  },
  "language_info": {
   "codemirror_mode": {
    "name": "ipython",
    "version": 3
   },
   "file_extension": ".py",
   "mimetype": "text/x-python",
   "name": "python",
   "nbconvert_exporter": "python",
   "pygments_lexer": "ipython3",
   "version": "3.11.11"
  }
 },
 "nbformat": 4,
 "nbformat_minor": 2
}
