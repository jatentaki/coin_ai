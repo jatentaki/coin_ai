{
 "cells": [
  {
   "cell_type": "code",
   "execution_count": null,
   "metadata": {},
   "outputs": [],
   "source": [
    "from __future__ import annotations\n",
    "\n",
    "import os\n",
    "\n",
    "os.environ[\"PYTORCH_ENABLE_MPS_FALLBACK\"] = \"1\"\n",
    "\n",
    "import lightning as pl\n",
    "\n",
    "from coin_ai.alignment.data import CoinDataModule\n",
    "from coin_ai.alignment.hformer import EmbedHFormer, HFormer\n",
    "from coin_ai.alignment.lightning import CoinLearner"
   ]
  },
  {
   "cell_type": "code",
   "execution_count": null,
   "metadata": {},
   "outputs": [],
   "source": [
    "path = \"/Users/jatentaki/Data/archeo/coins/krzywousty-homographies\"\n",
    "\n",
    "hformer = HFormer(d_target=128)\n",
    "learner = CoinLearner(hformer)\n",
    "\n",
    "data_module = CoinDataModule(\n",
    "    train_root=f\"{path}/split/train/Miecław_Rv\",\n",
    "    val_root=f\"{path}/split/train/Miecław_Rv\",\n",
    "    train_replicate=16,\n",
    "    batch_size=8,\n",
    "    num_workers=2,\n",
    ")"
   ]
  },
  {
   "cell_type": "code",
   "execution_count": null,
   "metadata": {},
   "outputs": [],
   "source": [
    "from lightning.pytorch.loggers import TensorBoardLogger\n",
    "\n",
    "logger = TensorBoardLogger(\"tb_logs\", name=\"hformer\")\n",
    "\n",
    "\n",
    "trainer = pl.Trainer(\n",
    "    max_epochs=10,\n",
    "    accelerator=\"mps\",\n",
    "    logger=logger,\n",
    "    log_every_n_steps=4,\n",
    ")\n",
    "\n",
    "\n",
    "trainer.fit(learner, data_module)"
   ]
  },
  {
   "cell_type": "code",
   "execution_count": null,
   "metadata": {},
   "outputs": [],
   "source": []
  }
 ],
 "metadata": {
  "kernelspec": {
   "display_name": "coins",
   "language": "python",
   "name": "python3"
  },
  "language_info": {
   "codemirror_mode": {
    "name": "ipython",
    "version": 3
   },
   "file_extension": ".py",
   "mimetype": "text/x-python",
   "name": "python",
   "nbconvert_exporter": "python",
   "pygments_lexer": "ipython3",
   "version": "3.11.11"
  }
 },
 "nbformat": 4,
 "nbformat_minor": 2
}
