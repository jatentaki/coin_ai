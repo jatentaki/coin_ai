{
 "cells": [
  {
   "cell_type": "code",
   "execution_count": null,
   "metadata": {},
   "outputs": [],
   "source": [
    "import os\n",
    "os.environ['PYTORCH_ENABLE_MPS_FALLBACK'] = '1'\n",
    "import torch\n",
    "import lightning.pytorch as pl\n",
    "from kornia import augmentation as aug\n",
    "from torchvision.transforms.v2 import ToDtype\n",
    "\n",
    "from coin_ai.models.readout import AttentionReadout, DinoWithHead\n",
    "from coin_ai.data.memory_data import InMemoryCoinDataset, build_coin_types, DataloaderAdapter, FlipAdapter, MemorySlab\n",
    "from coin_ai.learner import LightningLearner\n",
    "from coin_ai.losses import MarginLoss\n",
    "from coin_ai.metrics import AccuracyMetric"
   ]
  },
  {
   "cell_type": "code",
   "execution_count": null,
   "metadata": {},
   "outputs": [],
   "source": [
    "train_augmentation = aug.container.AugmentationSequential(\n",
    "    ToDtype(torch.float32, scale=True),\n",
    "    aug.RandomPerspective(distortion_scale=0.75),\n",
    "    aug.RandomResizedCrop((224, 224), same_on_batch=False, scale=(0.75, 1.0)),\n",
    "    aug.ColorJiggle(0.2, 0.2, 0.2),\n",
    "    aug.RandomGrayscale(p=1.0),\n",
    ")\n",
    "\n",
    "val_augmentation = aug.container.AugmentationSequential(\n",
    "    ToDtype(torch.float32, scale=True),\n",
    "    aug.RandomResizedCrop((224, 224), same_on_batch=False, scale=(0.98, 1.0)),\n",
    "    aug.RandomGrayscale(p=1.0),\n",
    ")"
   ]
  },
  {
   "cell_type": "code",
   "execution_count": null,
   "metadata": {},
   "outputs": [],
   "source": [
    "device = 'mps'\n",
    "\n",
    "data_root = '/Users/jatentaki/Data/archeo/coins/Cropped'\n",
    "coin_types = build_coin_types(data_root)\n",
    "memory_slab = MemorySlab(coin_types)\n",
    "train_dataset = FlipAdapter(InMemoryCoinDataset(coin_types, batch_size=32, augmentation=train_augmentation, memory_slab=memory_slab))\n",
    "val_dataset = InMemoryCoinDataset(coin_types, batch_size=32, augmentation=val_augmentation, memory_slab=memory_slab)\n",
    "val_dataset_flip = FlipAdapter(val_dataset)\n",
    "    \n",
    "train_dataloader = DataloaderAdapter(train_dataset, 0, device, 10, reseed=True)\n",
    "val_dataloader = DataloaderAdapter(val_dataset, 1, device, 1, reseed=False)\n",
    "val_dataloader_flip = DataloaderAdapter(val_dataset_flip, 1, device, 1, reseed=False)"
   ]
  },
  {
   "cell_type": "code",
   "execution_count": null,
   "metadata": {},
   "outputs": [],
   "source": [
    "head = AttentionReadout()\n",
    "model = DinoWithHead(head)\n",
    "loss_fn = MarginLoss()\n",
    "metric_fn = AccuracyMetric(similarity=loss_fn.similarity)\n",
    "learner = LightningLearner(model, loss_fn, metric_fn)"
   ]
  },
  {
   "cell_type": "code",
   "execution_count": null,
   "metadata": {},
   "outputs": [],
   "source": [
    "save_callback_0 = pl.callbacks.ModelCheckpoint(monitor='val/acc_at_1/dataloader_idx_0', mode='max', filename='val_0_acc_at_1')\n",
    "save_callback_1 = pl.callbacks.ModelCheckpoint(monitor='val/acc_at_1/dataloader_idx_1', mode='max', filename='val_1_acc_at_1')\n",
    "\n",
    "trainer = pl.Trainer(accelerator=device, max_epochs=10, callbacks=[save_callback_0, save_callback_1])\n",
    "trainer.fit(learner, train_dataloader, (val_dataloader, val_dataloader_flip))"
   ]
  },
  {
   "cell_type": "code",
   "execution_count": null,
   "metadata": {},
   "outputs": [],
   "source": []
  }
 ],
 "metadata": {
  "kernelspec": {
   "display_name": "base",
   "language": "python",
   "name": "python3"
  },
  "language_info": {
   "codemirror_mode": {
    "name": "ipython",
    "version": 3
   },
   "file_extension": ".py",
   "mimetype": "text/x-python",
   "name": "python",
   "nbconvert_exporter": "python",
   "pygments_lexer": "ipython3",
   "version": "3.10.13"
  }
 },
 "nbformat": 4,
 "nbformat_minor": 2
}
