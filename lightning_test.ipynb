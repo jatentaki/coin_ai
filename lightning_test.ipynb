{
 "cells": [
  {
   "cell_type": "code",
   "execution_count": null,
   "metadata": {},
   "outputs": [],
   "source": [
    "import os\n",
    "os.environ['PYTORCH_ENABLE_MPS_FALLBACK'] = '1'\n",
    "import torch\n",
    "import lightning.pytorch as pl\n",
    "from kornia import augmentation as aug\n",
    "from torchvision.transforms.v2 import ToDtype\n",
    "\n",
    "from coin_ai.models.readout import AttentionReadout, DinoWithHead\n",
    "from coin_ai.data.memory_data import InMemoryCoinDataset, build_coin_types\n",
    "from coin_ai.losses import MarginLoss\n",
    "from coin_ai.metrics import AccuracyMetric"
   ]
  },
  {
   "cell_type": "code",
   "execution_count": null,
   "metadata": {},
   "outputs": [],
   "source": [
    "train_augmentation = aug.container.AugmentationSequential(\n",
    "    ToDtype(torch.float32, scale=True),\n",
    "    aug.RandomPerspective(distortion_scale=0.75),\n",
    "    aug.RandomResizedCrop((224, 224), same_on_batch=False, scale=(0.75, 1.0)),\n",
    "    aug.ColorJiggle(0.2, 0.2, 0.2),\n",
    "    aug.RandomGrayscale(p=1.0),\n",
    ")\n",
    "\n",
    "val_augmentation = aug.container.AugmentationSequential(\n",
    "    ToDtype(torch.float32, scale=True),\n",
    "    aug.RandomResizedCrop((224, 224), same_on_batch=False, scale=(0.98, 1.0)),\n",
    "    aug.RandomGrayscale(p=1.0),\n",
    ")"
   ]
  },
  {
   "cell_type": "code",
   "execution_count": null,
   "metadata": {},
   "outputs": [],
   "source": []
  },
  {
   "cell_type": "code",
   "execution_count": null,
   "metadata": {},
   "outputs": [],
   "source": [
    "class LightningLearner(pl.LightningModule):\n",
    "    def __init__(self, model, loss_fn, metric_fn):\n",
    "        super().__init__()\n",
    "        self.model = model\n",
    "        self.loss_fn = loss_fn\n",
    "        self.metric_fn = metric_fn\n",
    "\n",
    "    def forward(self, x):\n",
    "        return self.model(x)\n",
    "\n",
    "    def training_step(self, batch, batch_idx):\n",
    "        images, labels = batch\n",
    "        embeddings = self.model(images)\n",
    "        loss = self.loss_fn(embeddings, labels)\n",
    "        self.log('train/loss', loss)\n",
    "        return loss\n",
    "\n",
    "    def validation_step(self, batch, batch_idx):\n",
    "        images, labels = batch\n",
    "        embeddings = self.model(images)\n",
    "        metrics = self.metric_fn(embeddings, labels)\n",
    "        for k, v in metrics.items():\n",
    "            self.log(f'val/{k}', v)\n",
    "\n",
    "    def configure_optimizers(self):\n",
    "        decay_params = [p for n, p in self.model.named_parameters() if 'weight' in n and p.requires_grad]\n",
    "        non_decay_params = [p for n, p in self.model.named_parameters() if 'weight' not in n and p.requires_grad]\n",
    "\n",
    "        optimizer = torch.optim.AdamW([\n",
    "            {'params': decay_params, 'weight_decay': 1e-2},\n",
    "            {'params': non_decay_params, 'weight_decay': 0.0},\n",
    "        ], lr=1e-4)\n",
    "\n",
    "        return optimizer"
   ]
  },
  {
   "cell_type": "code",
   "execution_count": null,
   "metadata": {},
   "outputs": [],
   "source": [
    "device = 'mps'\n",
    "\n",
    "data_root = '/Users/jatentaki/Data/archeo/coins/Cropped'\n",
    "coin_types = build_coin_types(data_root)\n",
    "train_dataset = InMemoryCoinDataset(coin_types, batch_size=32, augmentation=train_augmentation)\n",
    "val_dataset = InMemoryCoinDataset(coin_types, batch_size=32, augmentation=val_augmentation)\n",
    "\n",
    "from dataclasses import dataclass\n",
    "\n",
    "@dataclass\n",
    "class DatasetAdapter:\n",
    "    dataset: InMemoryCoinDataset\n",
    "    init_seed: int\n",
    "    device: torch.device\n",
    "    n_batches: int\n",
    "    \n",
    "    def __iter__(self):\n",
    "        return self.dataset.iterate(self.init_seed, self.n_batches, self.device)\n",
    "    \n",
    "    def __len__(self):\n",
    "        return self.n_batches\n",
    "    \n",
    "train_dataloader = DatasetAdapter(train_dataset, 0, device, 100)\n",
    "val_dataloader = DatasetAdapter(val_dataset, 1, device, 100)"
   ]
  },
  {
   "cell_type": "code",
   "execution_count": null,
   "metadata": {},
   "outputs": [],
   "source": [
    "head = AttentionReadout()\n",
    "model = DinoWithHead(head)\n",
    "loss_fn = MarginLoss()\n",
    "metric_fn = AccuracyMetric(similarity=loss_fn.similarity)\n",
    "learner = LightningLearner(model, loss_fn, metric_fn)"
   ]
  },
  {
   "cell_type": "code",
   "execution_count": null,
   "metadata": {},
   "outputs": [],
   "source": [
    "trainer = pl.Trainer(accelerator=device, max_epochs=10)\n",
    "trainer.fit(learner, train_dataloader, val_dataloader)"
   ]
  },
  {
   "cell_type": "code",
   "execution_count": null,
   "metadata": {},
   "outputs": [],
   "source": []
  }
 ],
 "metadata": {
  "kernelspec": {
   "display_name": "base",
   "language": "python",
   "name": "python3"
  },
  "language_info": {
   "codemirror_mode": {
    "name": "ipython",
    "version": 3
   },
   "file_extension": ".py",
   "mimetype": "text/x-python",
   "name": "python",
   "nbconvert_exporter": "python",
   "pygments_lexer": "ipython3",
   "version": "3.10.13"
  }
 },
 "nbformat": 4,
 "nbformat_minor": 2
}
